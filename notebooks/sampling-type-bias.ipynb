{
  "nbformat": 4,
  "nbformat_minor": 0,
  "metadata": {
    "colab": {
      "provenance": [],
      "authorship_tag": "ABX9TyMje/Tt2ChARqnWIA+JS+qX",
      "include_colab_link": true
    },
    "kernelspec": {
      "name": "python3",
      "display_name": "Python 3"
    },
    "language_info": {
      "name": "python"
    }
  },
  "cells": [
    {
      "cell_type": "markdown",
      "metadata": {
        "id": "view-in-github",
        "colab_type": "text"
      },
      "source": [
        "<a href=\"https://colab.research.google.com/github/marinebon/dwc-bias-analysis/blob/main/notebooks/sampling-type-bias.ipynb\" target=\"_parent\"><img src=\"https://colab.research.google.com/assets/colab-badge.svg\" alt=\"Open In Colab\"/></a>"
      ]
    },
    {
      "cell_type": "markdown",
      "source": [
        "This notebook arose from discussions in the Biodiversity Decision Support Working Group at 2023 ESIIL meeting.\n",
        "Additional documentation of discussions in this group are available in the following g-slides:\n",
        "* [group 13](https://docs.google.com/presentation/d/1io7oOZP5V2Y78Ks6gOi2-2F-Lwob--u6ZqubeUpKueQ/edit?usp=sharing)\n",
        "* [group 2](https://docs.google.com/presentation/d/1QW4liEOlRrlR_clCK-uf0zxnFyKkU-wif2D4tf-n1rs/edit?usp=sharing)"
      ],
      "metadata": {
        "id": "ex-zkBnjz3zW"
      }
    },
    {
      "cell_type": "markdown",
      "source": [
        "Some sources of taxa occurrence data have special characteristics which can be leveraged to help adjust for various sampling biases:\n",
        "* telemetry\n",
        "    * single organism tracking\n",
        "* bio-acoustic\n",
        "    * high temporal resolution\n",
        "* remote sensing\n",
        "    * even spatial sampling\n",
        "* eDNA\n",
        "    * even taxonomic sampling\n"
      ],
      "metadata": {
        "id": "XUIeTpRQuU-i"
      }
    },
    {
      "cell_type": "markdown",
      "source": [
        "Different taxa occurrence sampling methods will have a taxonomic bias. \n",
        "The taxonomic biases of these methods can be presented in a (Venn|Euler) diagram.\n",
        "\n",
        "* circles can be different sizes\n",
        "    * eDNA is largest (probably)\n",
        "\n",
        "List of circles:\n",
        "* telemetry\n",
        "* bio-acoustic\n",
        "* remote sensing\n",
        "* eDNA\n",
        "* camera traps\n",
        "* citizen science\n",
        "* checklists\n",
        "* ..."
      ],
      "metadata": {
        "id": "M5oh3-Iou_Fp"
      }
    },
    {
      "cell_type": "markdown",
      "source": [
        "(Radar|spider) diagram for each of these taxa sampling methods:\n",
        "\n",
        "axes:\n",
        "* accuracy?\n",
        "* resolution, extent, & evenness for:\n",
        "    * time\n",
        "    * space\n",
        "    * (taxa|phylogeny)\n",
        "* people\n",
        "* accuracy?\n",
        "* ...\n",
        "\n",
        "\n",
        "a priori data for these plots can be input in [this g-sheet](https://docs.google.com/spreadsheets/d/1tQHpYUtm0Yxlu8wY6eH2_v5XV6EeH7Sub0MD-01uZx4/edit?usp=sharing)."
      ],
      "metadata": {
        "id": "ccVPAUCCv2Ad"
      }
    }
  ]
}